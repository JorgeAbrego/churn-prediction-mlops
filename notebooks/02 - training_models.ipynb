{
 "cells": [
  {
   "cell_type": "markdown",
   "metadata": {},
   "source": [
    "# Training Models"
   ]
  },
  {
   "cell_type": "markdown",
   "metadata": {},
   "source": [
    "### Load libraries"
   ]
  },
  {
   "cell_type": "code",
   "execution_count": 1,
   "metadata": {},
   "outputs": [],
   "source": [
    "import os\n",
    "import pandas as pd\n",
    "import numpy as np\n",
    "from sklearn.preprocessing import StandardScaler, OneHotEncoder, Binarizer\n",
    "from sklearn.compose import ColumnTransformer\n",
    "from sklearn.pipeline import Pipeline\n",
    "from sklearn.model_selection import train_test_split\n",
    "\n",
    "from sklearn.linear_model import LogisticRegression\n",
    "from sklearn.tree import DecisionTreeClassifier\n",
    "from sklearn.ensemble import RandomForestClassifier\n",
    "from sklearn.naive_bayes import GaussianNB\n",
    "from sklearn.neighbors import KNeighborsClassifier\n",
    "from sklearn.svm import SVC\n",
    "\n",
    "from sklearn.metrics import roc_curve, auc\n",
    "from sklearn.metrics import confusion_matrix, classification_report, ConfusionMatrixDisplay\n",
    "\n",
    "import matplotlib.pyplot as plt\n",
    "import mlflow\n",
    "import mlflow.sklearn\n",
    "from mlflow.models import infer_signature\n",
    "import joblib\n",
    "import warnings\n",
    "from datetime import datetime\n",
    "from dotenv import load_dotenv, find_dotenv\n",
    "warnings.filterwarnings(\"ignore\")\n",
    "\n",
    "_ = load_dotenv(find_dotenv())"
   ]
  },
  {
   "cell_type": "markdown",
   "metadata": {},
   "source": [
    "## Load dataset"
   ]
  },
  {
   "cell_type": "code",
   "execution_count": 2,
   "metadata": {},
   "outputs": [
    {
     "data": {
      "text/plain": [
       "(7043, 21)"
      ]
     },
     "execution_count": 2,
     "metadata": {},
     "output_type": "execute_result"
    }
   ],
   "source": [
    "base_df = pd.read_csv(f\"../data/WA_Fn-UseC_-Telco-Customer-Churn.csv\")\n",
    "base_df.shape"
   ]
  },
  {
   "cell_type": "markdown",
   "metadata": {},
   "source": [
    "## Preprocessing dataset"
   ]
  },
  {
   "cell_type": "code",
   "execution_count": 3,
   "metadata": {},
   "outputs": [],
   "source": [
    "# Defining categorical, numerical and binary columns\n",
    "cat_cols = ['gender', 'MultipleLines', 'InternetService', 'OnlineSecurity', \n",
    "            'OnlineBackup', 'DeviceProtection', 'TechSupport', 'StreamingTV', \n",
    "            'StreamingMovies', 'Contract', 'PaymentMethod']\n",
    "\n",
    "num_cols = ['tenure', 'MonthlyCharges', 'TotalCharges']\n",
    "\n",
    "bin_cols = ['SeniorCitizen', 'Partner', 'Dependents', 'PhoneService', 'PaperlessBilling']\n",
    "\n",
    "target_col = ['Churn']"
   ]
  },
  {
   "cell_type": "code",
   "execution_count": 4,
   "metadata": {},
   "outputs": [],
   "source": [
    "# Checking for duplicates and null values and creating new columns\n",
    "dataset = (base_df\n",
    " .drop_duplicates(keep='first')\n",
    " .drop(index=base_df[base_df['TotalCharges'] == ' '].index)\n",
    " [cat_cols + num_cols + bin_cols + target_col]\n",
    " .assign(Churn = lambda x: x.Churn.map({'Yes': 1, 'No': 0}),\n",
    "        Partner = lambda x: x.Partner.map({'Yes': 1, 'No': 0}),\n",
    "        Dependents = lambda x: x.Dependents.map({'Yes': 1, 'No': 0}),\n",
    "        PhoneService = lambda x: x.PhoneService.map({'Yes': 1, 'No': 0}),\n",
    "        PaperlessBilling = lambda x: x.PaperlessBilling.map({'Yes': 1, 'No': 0})\n",
    "        )\n",
    ")"
   ]
  },
  {
   "cell_type": "code",
   "execution_count": 5,
   "metadata": {},
   "outputs": [],
   "source": [
    "dataset.to_csv(\"../data/telco_customer_churn_reference.csv\", index=False)"
   ]
  },
  {
   "cell_type": "code",
   "execution_count": 6,
   "metadata": {},
   "outputs": [
    {
     "data": {
      "text/plain": [
       "['./artifacts/preprocessing_pipeline.pkl']"
      ]
     },
     "execution_count": 6,
     "metadata": {},
     "output_type": "execute_result"
    }
   ],
   "source": [
    "# Define the preprocessing steps\n",
    "categorical_transformer = Pipeline(steps=[\n",
    "    ('onehot', OneHotEncoder(handle_unknown='ignore', sparse_output=False))\n",
    "])\n",
    "\n",
    "numerical_transformer = Pipeline(steps=[\n",
    "    ('scaler', StandardScaler())\n",
    "])\n",
    "\n",
    "binary_transformer = Pipeline(steps=[\n",
    "    ('binarizer', Binarizer())\n",
    "])\n",
    "\n",
    "preprocessor = ColumnTransformer(\n",
    "    transformers=[\n",
    "        ('cat', categorical_transformer, cat_cols),\n",
    "        ('num', numerical_transformer, num_cols),\n",
    "        ('bin', binary_transformer, bin_cols)\n",
    "    ]).set_output(transform=\"pandas\")\n",
    "\n",
    "processed_data = preprocessor.fit_transform(dataset)\n",
    "\n",
    "preprocessor_file = \"./artifacts/preprocessing_pipeline.pkl\"\n",
    "joblib.dump(preprocessor, preprocessor_file)"
   ]
  },
  {
   "cell_type": "code",
   "execution_count": 7,
   "metadata": {},
   "outputs": [],
   "source": [
    "X = processed_data\n",
    "y = dataset[target_col]"
   ]
  },
  {
   "cell_type": "code",
   "execution_count": 8,
   "metadata": {},
   "outputs": [
    {
     "data": {
      "text/html": [
       "<div>\n",
       "<style scoped>\n",
       "    .dataframe tbody tr th:only-of-type {\n",
       "        vertical-align: middle;\n",
       "    }\n",
       "\n",
       "    .dataframe tbody tr th {\n",
       "        vertical-align: top;\n",
       "    }\n",
       "\n",
       "    .dataframe thead th {\n",
       "        text-align: right;\n",
       "    }\n",
       "</style>\n",
       "<table border=\"1\" class=\"dataframe\">\n",
       "  <thead>\n",
       "    <tr style=\"text-align: right;\">\n",
       "      <th></th>\n",
       "      <th>cat__gender_Female</th>\n",
       "      <th>cat__gender_Male</th>\n",
       "      <th>cat__MultipleLines_No</th>\n",
       "      <th>cat__MultipleLines_No phone service</th>\n",
       "      <th>cat__MultipleLines_Yes</th>\n",
       "      <th>cat__InternetService_DSL</th>\n",
       "      <th>cat__InternetService_Fiber optic</th>\n",
       "      <th>cat__InternetService_No</th>\n",
       "      <th>cat__OnlineSecurity_No</th>\n",
       "      <th>cat__OnlineSecurity_No internet service</th>\n",
       "      <th>...</th>\n",
       "      <th>cat__PaymentMethod_Electronic check</th>\n",
       "      <th>cat__PaymentMethod_Mailed check</th>\n",
       "      <th>num__tenure</th>\n",
       "      <th>num__MonthlyCharges</th>\n",
       "      <th>num__TotalCharges</th>\n",
       "      <th>bin__SeniorCitizen</th>\n",
       "      <th>bin__Partner</th>\n",
       "      <th>bin__Dependents</th>\n",
       "      <th>bin__PhoneService</th>\n",
       "      <th>bin__PaperlessBilling</th>\n",
       "    </tr>\n",
       "  </thead>\n",
       "  <tbody>\n",
       "    <tr>\n",
       "      <th>0</th>\n",
       "      <td>1.0</td>\n",
       "      <td>0.0</td>\n",
       "      <td>0.0</td>\n",
       "      <td>1.0</td>\n",
       "      <td>0.0</td>\n",
       "      <td>1.0</td>\n",
       "      <td>0.0</td>\n",
       "      <td>0.0</td>\n",
       "      <td>1.0</td>\n",
       "      <td>0.0</td>\n",
       "      <td>...</td>\n",
       "      <td>1.0</td>\n",
       "      <td>0.0</td>\n",
       "      <td>-1.280248</td>\n",
       "      <td>-1.161694</td>\n",
       "      <td>-0.994194</td>\n",
       "      <td>0</td>\n",
       "      <td>1</td>\n",
       "      <td>0</td>\n",
       "      <td>0</td>\n",
       "      <td>1</td>\n",
       "    </tr>\n",
       "    <tr>\n",
       "      <th>1</th>\n",
       "      <td>0.0</td>\n",
       "      <td>1.0</td>\n",
       "      <td>1.0</td>\n",
       "      <td>0.0</td>\n",
       "      <td>0.0</td>\n",
       "      <td>1.0</td>\n",
       "      <td>0.0</td>\n",
       "      <td>0.0</td>\n",
       "      <td>0.0</td>\n",
       "      <td>0.0</td>\n",
       "      <td>...</td>\n",
       "      <td>0.0</td>\n",
       "      <td>1.0</td>\n",
       "      <td>0.064303</td>\n",
       "      <td>-0.260878</td>\n",
       "      <td>-0.173740</td>\n",
       "      <td>0</td>\n",
       "      <td>0</td>\n",
       "      <td>0</td>\n",
       "      <td>1</td>\n",
       "      <td>0</td>\n",
       "    </tr>\n",
       "    <tr>\n",
       "      <th>2</th>\n",
       "      <td>0.0</td>\n",
       "      <td>1.0</td>\n",
       "      <td>1.0</td>\n",
       "      <td>0.0</td>\n",
       "      <td>0.0</td>\n",
       "      <td>1.0</td>\n",
       "      <td>0.0</td>\n",
       "      <td>0.0</td>\n",
       "      <td>0.0</td>\n",
       "      <td>0.0</td>\n",
       "      <td>...</td>\n",
       "      <td>0.0</td>\n",
       "      <td>1.0</td>\n",
       "      <td>-1.239504</td>\n",
       "      <td>-0.363923</td>\n",
       "      <td>-0.959649</td>\n",
       "      <td>0</td>\n",
       "      <td>0</td>\n",
       "      <td>0</td>\n",
       "      <td>1</td>\n",
       "      <td>1</td>\n",
       "    </tr>\n",
       "    <tr>\n",
       "      <th>3</th>\n",
       "      <td>0.0</td>\n",
       "      <td>1.0</td>\n",
       "      <td>0.0</td>\n",
       "      <td>1.0</td>\n",
       "      <td>0.0</td>\n",
       "      <td>1.0</td>\n",
       "      <td>0.0</td>\n",
       "      <td>0.0</td>\n",
       "      <td>0.0</td>\n",
       "      <td>0.0</td>\n",
       "      <td>...</td>\n",
       "      <td>0.0</td>\n",
       "      <td>0.0</td>\n",
       "      <td>0.512486</td>\n",
       "      <td>-0.747850</td>\n",
       "      <td>-0.195248</td>\n",
       "      <td>0</td>\n",
       "      <td>0</td>\n",
       "      <td>0</td>\n",
       "      <td>0</td>\n",
       "      <td>0</td>\n",
       "    </tr>\n",
       "    <tr>\n",
       "      <th>4</th>\n",
       "      <td>1.0</td>\n",
       "      <td>0.0</td>\n",
       "      <td>1.0</td>\n",
       "      <td>0.0</td>\n",
       "      <td>0.0</td>\n",
       "      <td>0.0</td>\n",
       "      <td>1.0</td>\n",
       "      <td>0.0</td>\n",
       "      <td>1.0</td>\n",
       "      <td>0.0</td>\n",
       "      <td>...</td>\n",
       "      <td>1.0</td>\n",
       "      <td>0.0</td>\n",
       "      <td>-1.239504</td>\n",
       "      <td>0.196178</td>\n",
       "      <td>-0.940457</td>\n",
       "      <td>0</td>\n",
       "      <td>0</td>\n",
       "      <td>0</td>\n",
       "      <td>1</td>\n",
       "      <td>1</td>\n",
       "    </tr>\n",
       "    <tr>\n",
       "      <th>...</th>\n",
       "      <td>...</td>\n",
       "      <td>...</td>\n",
       "      <td>...</td>\n",
       "      <td>...</td>\n",
       "      <td>...</td>\n",
       "      <td>...</td>\n",
       "      <td>...</td>\n",
       "      <td>...</td>\n",
       "      <td>...</td>\n",
       "      <td>...</td>\n",
       "      <td>...</td>\n",
       "      <td>...</td>\n",
       "      <td>...</td>\n",
       "      <td>...</td>\n",
       "      <td>...</td>\n",
       "      <td>...</td>\n",
       "      <td>...</td>\n",
       "      <td>...</td>\n",
       "      <td>...</td>\n",
       "      <td>...</td>\n",
       "      <td>...</td>\n",
       "    </tr>\n",
       "    <tr>\n",
       "      <th>7038</th>\n",
       "      <td>0.0</td>\n",
       "      <td>1.0</td>\n",
       "      <td>0.0</td>\n",
       "      <td>0.0</td>\n",
       "      <td>1.0</td>\n",
       "      <td>1.0</td>\n",
       "      <td>0.0</td>\n",
       "      <td>0.0</td>\n",
       "      <td>0.0</td>\n",
       "      <td>0.0</td>\n",
       "      <td>...</td>\n",
       "      <td>0.0</td>\n",
       "      <td>1.0</td>\n",
       "      <td>-0.343137</td>\n",
       "      <td>0.664868</td>\n",
       "      <td>-0.129180</td>\n",
       "      <td>0</td>\n",
       "      <td>1</td>\n",
       "      <td>1</td>\n",
       "      <td>1</td>\n",
       "      <td>1</td>\n",
       "    </tr>\n",
       "    <tr>\n",
       "      <th>7039</th>\n",
       "      <td>1.0</td>\n",
       "      <td>0.0</td>\n",
       "      <td>0.0</td>\n",
       "      <td>0.0</td>\n",
       "      <td>1.0</td>\n",
       "      <td>0.0</td>\n",
       "      <td>1.0</td>\n",
       "      <td>0.0</td>\n",
       "      <td>1.0</td>\n",
       "      <td>0.0</td>\n",
       "      <td>...</td>\n",
       "      <td>0.0</td>\n",
       "      <td>0.0</td>\n",
       "      <td>1.612573</td>\n",
       "      <td>1.276493</td>\n",
       "      <td>2.241056</td>\n",
       "      <td>0</td>\n",
       "      <td>1</td>\n",
       "      <td>1</td>\n",
       "      <td>1</td>\n",
       "      <td>1</td>\n",
       "    </tr>\n",
       "    <tr>\n",
       "      <th>7040</th>\n",
       "      <td>1.0</td>\n",
       "      <td>0.0</td>\n",
       "      <td>0.0</td>\n",
       "      <td>1.0</td>\n",
       "      <td>0.0</td>\n",
       "      <td>1.0</td>\n",
       "      <td>0.0</td>\n",
       "      <td>0.0</td>\n",
       "      <td>0.0</td>\n",
       "      <td>0.0</td>\n",
       "      <td>...</td>\n",
       "      <td>1.0</td>\n",
       "      <td>0.0</td>\n",
       "      <td>-0.872808</td>\n",
       "      <td>-1.170004</td>\n",
       "      <td>-0.854514</td>\n",
       "      <td>0</td>\n",
       "      <td>1</td>\n",
       "      <td>1</td>\n",
       "      <td>0</td>\n",
       "      <td>1</td>\n",
       "    </tr>\n",
       "    <tr>\n",
       "      <th>7041</th>\n",
       "      <td>0.0</td>\n",
       "      <td>1.0</td>\n",
       "      <td>0.0</td>\n",
       "      <td>0.0</td>\n",
       "      <td>1.0</td>\n",
       "      <td>0.0</td>\n",
       "      <td>1.0</td>\n",
       "      <td>0.0</td>\n",
       "      <td>1.0</td>\n",
       "      <td>0.0</td>\n",
       "      <td>...</td>\n",
       "      <td>0.0</td>\n",
       "      <td>1.0</td>\n",
       "      <td>-1.158016</td>\n",
       "      <td>0.319168</td>\n",
       "      <td>-0.872095</td>\n",
       "      <td>1</td>\n",
       "      <td>1</td>\n",
       "      <td>0</td>\n",
       "      <td>1</td>\n",
       "      <td>1</td>\n",
       "    </tr>\n",
       "    <tr>\n",
       "      <th>7042</th>\n",
       "      <td>0.0</td>\n",
       "      <td>1.0</td>\n",
       "      <td>1.0</td>\n",
       "      <td>0.0</td>\n",
       "      <td>0.0</td>\n",
       "      <td>0.0</td>\n",
       "      <td>1.0</td>\n",
       "      <td>0.0</td>\n",
       "      <td>0.0</td>\n",
       "      <td>0.0</td>\n",
       "      <td>...</td>\n",
       "      <td>0.0</td>\n",
       "      <td>0.0</td>\n",
       "      <td>1.368109</td>\n",
       "      <td>1.357932</td>\n",
       "      <td>2.012344</td>\n",
       "      <td>0</td>\n",
       "      <td>0</td>\n",
       "      <td>0</td>\n",
       "      <td>1</td>\n",
       "      <td>1</td>\n",
       "    </tr>\n",
       "  </tbody>\n",
       "</table>\n",
       "<p>7032 rows × 41 columns</p>\n",
       "</div>"
      ],
      "text/plain": [
       "      cat__gender_Female  cat__gender_Male  cat__MultipleLines_No  \\\n",
       "0                    1.0               0.0                    0.0   \n",
       "1                    0.0               1.0                    1.0   \n",
       "2                    0.0               1.0                    1.0   \n",
       "3                    0.0               1.0                    0.0   \n",
       "4                    1.0               0.0                    1.0   \n",
       "...                  ...               ...                    ...   \n",
       "7038                 0.0               1.0                    0.0   \n",
       "7039                 1.0               0.0                    0.0   \n",
       "7040                 1.0               0.0                    0.0   \n",
       "7041                 0.0               1.0                    0.0   \n",
       "7042                 0.0               1.0                    1.0   \n",
       "\n",
       "      cat__MultipleLines_No phone service  cat__MultipleLines_Yes  \\\n",
       "0                                     1.0                     0.0   \n",
       "1                                     0.0                     0.0   \n",
       "2                                     0.0                     0.0   \n",
       "3                                     1.0                     0.0   \n",
       "4                                     0.0                     0.0   \n",
       "...                                   ...                     ...   \n",
       "7038                                  0.0                     1.0   \n",
       "7039                                  0.0                     1.0   \n",
       "7040                                  1.0                     0.0   \n",
       "7041                                  0.0                     1.0   \n",
       "7042                                  0.0                     0.0   \n",
       "\n",
       "      cat__InternetService_DSL  cat__InternetService_Fiber optic  \\\n",
       "0                          1.0                               0.0   \n",
       "1                          1.0                               0.0   \n",
       "2                          1.0                               0.0   \n",
       "3                          1.0                               0.0   \n",
       "4                          0.0                               1.0   \n",
       "...                        ...                               ...   \n",
       "7038                       1.0                               0.0   \n",
       "7039                       0.0                               1.0   \n",
       "7040                       1.0                               0.0   \n",
       "7041                       0.0                               1.0   \n",
       "7042                       0.0                               1.0   \n",
       "\n",
       "      cat__InternetService_No  cat__OnlineSecurity_No  \\\n",
       "0                         0.0                     1.0   \n",
       "1                         0.0                     0.0   \n",
       "2                         0.0                     0.0   \n",
       "3                         0.0                     0.0   \n",
       "4                         0.0                     1.0   \n",
       "...                       ...                     ...   \n",
       "7038                      0.0                     0.0   \n",
       "7039                      0.0                     1.0   \n",
       "7040                      0.0                     0.0   \n",
       "7041                      0.0                     1.0   \n",
       "7042                      0.0                     0.0   \n",
       "\n",
       "      cat__OnlineSecurity_No internet service  ...  \\\n",
       "0                                         0.0  ...   \n",
       "1                                         0.0  ...   \n",
       "2                                         0.0  ...   \n",
       "3                                         0.0  ...   \n",
       "4                                         0.0  ...   \n",
       "...                                       ...  ...   \n",
       "7038                                      0.0  ...   \n",
       "7039                                      0.0  ...   \n",
       "7040                                      0.0  ...   \n",
       "7041                                      0.0  ...   \n",
       "7042                                      0.0  ...   \n",
       "\n",
       "      cat__PaymentMethod_Electronic check  cat__PaymentMethod_Mailed check  \\\n",
       "0                                     1.0                              0.0   \n",
       "1                                     0.0                              1.0   \n",
       "2                                     0.0                              1.0   \n",
       "3                                     0.0                              0.0   \n",
       "4                                     1.0                              0.0   \n",
       "...                                   ...                              ...   \n",
       "7038                                  0.0                              1.0   \n",
       "7039                                  0.0                              0.0   \n",
       "7040                                  1.0                              0.0   \n",
       "7041                                  0.0                              1.0   \n",
       "7042                                  0.0                              0.0   \n",
       "\n",
       "      num__tenure  num__MonthlyCharges  num__TotalCharges  bin__SeniorCitizen  \\\n",
       "0       -1.280248            -1.161694          -0.994194                   0   \n",
       "1        0.064303            -0.260878          -0.173740                   0   \n",
       "2       -1.239504            -0.363923          -0.959649                   0   \n",
       "3        0.512486            -0.747850          -0.195248                   0   \n",
       "4       -1.239504             0.196178          -0.940457                   0   \n",
       "...           ...                  ...                ...                 ...   \n",
       "7038    -0.343137             0.664868          -0.129180                   0   \n",
       "7039     1.612573             1.276493           2.241056                   0   \n",
       "7040    -0.872808            -1.170004          -0.854514                   0   \n",
       "7041    -1.158016             0.319168          -0.872095                   1   \n",
       "7042     1.368109             1.357932           2.012344                   0   \n",
       "\n",
       "      bin__Partner  bin__Dependents  bin__PhoneService  bin__PaperlessBilling  \n",
       "0                1                0                  0                      1  \n",
       "1                0                0                  1                      0  \n",
       "2                0                0                  1                      1  \n",
       "3                0                0                  0                      0  \n",
       "4                0                0                  1                      1  \n",
       "...            ...              ...                ...                    ...  \n",
       "7038             1                1                  1                      1  \n",
       "7039             1                1                  1                      1  \n",
       "7040             1                1                  0                      1  \n",
       "7041             1                0                  1                      1  \n",
       "7042             0                0                  1                      1  \n",
       "\n",
       "[7032 rows x 41 columns]"
      ]
     },
     "execution_count": 8,
     "metadata": {},
     "output_type": "execute_result"
    }
   ],
   "source": [
    "X"
   ]
  },
  {
   "cell_type": "markdown",
   "metadata": {},
   "source": [
    "## Training Models"
   ]
  },
  {
   "cell_type": "code",
   "execution_count": 9,
   "metadata": {},
   "outputs": [],
   "source": [
    "# Set the tracking URI for MLflow\n",
    "mlflow.set_tracking_uri(\"http://localhost:5000\")"
   ]
  },
  {
   "cell_type": "code",
   "execution_count": 10,
   "metadata": {},
   "outputs": [
    {
     "name": "stderr",
     "output_type": "stream",
     "text": [
      "2024/09/28 02:27:12 INFO mlflow.tracking.fluent: Experiment with name 'telco_customer_churn' does not exist. Creating a new experiment.\n"
     ]
    },
    {
     "data": {
      "text/plain": [
       "<Experiment: artifact_location='mlflow-artifacts:/1', creation_time=1727504832264, experiment_id='1', last_update_time=1727504832264, lifecycle_stage='active', name='telco_customer_churn', tags={}>"
      ]
     },
     "execution_count": 10,
     "metadata": {},
     "output_type": "execute_result"
    }
   ],
   "source": [
    "# Set the experiment name \n",
    "mlflow.set_experiment(\"telco_customer_churn\")"
   ]
  },
  {
   "cell_type": "code",
   "execution_count": 11,
   "metadata": {},
   "outputs": [
    {
     "name": "stderr",
     "output_type": "stream",
     "text": [
      "2024/09/28 02:27:12 WARNING mlflow.utils.autologging_utils: You are using an unsupported version of sklearn. If you encounter errors during autologging, try upgrading / downgrading sklearn to a supported version, or try upgrading MLflow.\n"
     ]
    }
   ],
   "source": [
    "# Set the autologging configuration to True for all sklearn models\n",
    "mlflow.sklearn.autolog()"
   ]
  },
  {
   "cell_type": "code",
   "execution_count": 12,
   "metadata": {},
   "outputs": [],
   "source": [
    "# Split the data into training and testing sets\n",
    "X_train, X_test, y_train, y_test = train_test_split(X, y, test_size=0.3, random_state=42)"
   ]
  },
  {
   "cell_type": "code",
   "execution_count": 13,
   "metadata": {},
   "outputs": [],
   "source": [
    "# Save the training and testing data as CSV files\n",
    "train_data = pd.DataFrame(X_train, columns=X.columns)\n",
    "train_data[target_col] = y_train.reset_index(drop=True)\n",
    "train_data.to_csv('./artifacts/train_data.csv', index=False)\n",
    "\n",
    "test_data = pd.DataFrame(X_test, columns=X.columns)\n",
    "test_data[target_col] = y_test.reset_index(drop=True)\n",
    "test_data.to_csv('./artifacts/test_data.csv', index=False)"
   ]
  },
  {
   "cell_type": "code",
   "execution_count": 14,
   "metadata": {},
   "outputs": [],
   "source": [
    "# Define the models to train \n",
    "models = {\n",
    "    \"Logistic Regression\": LogisticRegression(random_state=11),\n",
    "    \"Decision Tree\": DecisionTreeClassifier(max_depth=10, random_state=11),\n",
    "    \"Random Forest\": RandomForestClassifier(max_depth=10, random_state=11),\n",
    "    \"SVC\": SVC(random_state = 11),\n",
    "    \"KNN\": KNeighborsClassifier(n_neighbors = 11),\n",
    "    \"Gaussian Naive Bayes\": GaussianNB()\n",
    "}"
   ]
  },
  {
   "cell_type": "code",
   "execution_count": 15,
   "metadata": {},
   "outputs": [
    {
     "name": "stdout",
     "output_type": "stream",
     "text": [
      "Active run_id: 812d4d29aae44c91b67c5bfe10384908\n",
      "Active run_id: 55ea6d8acb0a4089a66f30458e876445\n",
      "Active run_id: b3cddea95097435b9be7eea2edd94b52\n",
      "Active run_id: 8bf66d8f732b4979a6e7b80b291282e7\n",
      "Active run_id: b649c1b6f92e43d29ff5c80fce5c8500\n",
      "Active run_id: 7e78e253a49d41ee8dd5f83a31930c1d\n",
      "Training and evaluation finished.\n"
     ]
    }
   ],
   "source": [
    "# Train the models and evaluate their performance\n",
    "for name, model in models.items():\n",
    "    with mlflow.start_run(run_name=f\"{name} [{(datetime.now().strftime('%Y%m%d-%H%M%S'))}]\"):\n",
    "        mlflow.log_artifact(preprocessor_file, artifact_path='preprocessing')\n",
    "        mlflow.log_artifact('./artifacts/train_data.csv', artifact_path='train_data')\n",
    "        mlflow.log_artifact('./artifacts/test_data.csv', artifact_path='test_data')\n",
    "        \n",
    "        model.fit(X_train, y_train)\n",
    "        y_pred = model.predict(X_test)\n",
    "        signature = infer_signature(X_test, y_pred)\n",
    "        \n",
    "        report = classification_report(y_test, y_pred)\n",
    "        mlflow.log_text(str(report), \"classification_report.txt\")\n",
    "                \n",
    "        if hasattr(model, 'feature_importances_'):\n",
    "            feature_importances = model.feature_importances_\n",
    "            importance_df = pd.DataFrame({\n",
    "                'Feature': X.columns,\n",
    "                'Importance': feature_importances\n",
    "            }).sort_values(by='Importance', ascending=False)\n",
    "            importance_df.to_csv(f'./artifacts/feature_importances_{name}.csv', index=False)\n",
    "            mlflow.log_artifact(f'./artifacts/feature_importances_{name}.csv')\n",
    "        elif hasattr(model, 'coef_'):\n",
    "            feature_importances = np.abs(model.coef_[0])\n",
    "            importance_df = pd.DataFrame({\n",
    "                'Feature': X.columns,\n",
    "                'Importance': feature_importances\n",
    "            }).sort_values(by='Importance', ascending=False)\n",
    "            importance_df.to_csv(f'./artifacts/feature_importances_{name}.csv', index=False)\n",
    "            mlflow.log_artifact(f'./artifacts/feature_importances_{name}.csv')\n",
    "\n",
    "        run = mlflow.active_run()\n",
    "        print(\"Active run_id: {}\".format(run.info.run_id))\n",
    "        \n",
    "    mlflow.end_run()\n",
    "        \n",
    "print(\"Training and evaluation finished.\")"
   ]
  },
  {
   "cell_type": "markdown",
   "metadata": {},
   "source": [
    "## Manage Models"
   ]
  },
  {
   "cell_type": "code",
   "execution_count": 16,
   "metadata": {},
   "outputs": [],
   "source": [
    "from mlflow.tracking import MlflowClient\n",
    "from mlflow.entities import ViewType"
   ]
  },
  {
   "cell_type": "code",
   "execution_count": 17,
   "metadata": {},
   "outputs": [
    {
     "data": {
      "text/plain": [
       "[<Experiment: artifact_location='mlflow-artifacts:/1', creation_time=1727504832264, experiment_id='1', last_update_time=1727504832264, lifecycle_stage='active', name='telco_customer_churn', tags={}>,\n",
       " <Experiment: artifact_location='mlflow-artifacts:/0', creation_time=1727504613810, experiment_id='0', last_update_time=1727504613810, lifecycle_stage='active', name='Default', tags={}>]"
      ]
     },
     "execution_count": 17,
     "metadata": {},
     "output_type": "execute_result"
    }
   ],
   "source": [
    "client = MlflowClient(tracking_uri='http://localhost:5000')\n",
    "\n",
    "client.search_experiments()"
   ]
  },
  {
   "cell_type": "code",
   "execution_count": 18,
   "metadata": {},
   "outputs": [],
   "source": [
    "runs = client.search_runs(\n",
    "    experiment_ids='1',\n",
    "    filter_string=\"metrics.training_score >0.7\",\n",
    "    run_view_type=ViewType.ACTIVE_ONLY,\n",
    "    order_by=[\"metrics.training_score DESC\"]\n",
    ")"
   ]
  },
  {
   "cell_type": "code",
   "execution_count": 19,
   "metadata": {},
   "outputs": [],
   "source": [
    "lst_runs = []\n",
    "\n",
    "for run in runs:\n",
    "    row = [run.info.run_id, run.info.run_name, run.data.tags['estimator_name'], run.info.start_time, run.data.metrics['training_score']]\n",
    "    lst_runs.append(row)\n",
    "    \n",
    "df_runs = pd.DataFrame(lst_runs, columns=['run_id', 'run_name', 'estimator_name', 'start_time', 'training_score'])  "
   ]
  },
  {
   "cell_type": "code",
   "execution_count": 20,
   "metadata": {},
   "outputs": [
    {
     "data": {
      "text/html": [
       "<div>\n",
       "<style scoped>\n",
       "    .dataframe tbody tr th:only-of-type {\n",
       "        vertical-align: middle;\n",
       "    }\n",
       "\n",
       "    .dataframe tbody tr th {\n",
       "        vertical-align: top;\n",
       "    }\n",
       "\n",
       "    .dataframe thead th {\n",
       "        text-align: right;\n",
       "    }\n",
       "</style>\n",
       "<table border=\"1\" class=\"dataframe\">\n",
       "  <thead>\n",
       "    <tr style=\"text-align: right;\">\n",
       "      <th></th>\n",
       "      <th>run_id</th>\n",
       "      <th>run_name</th>\n",
       "      <th>estimator_name</th>\n",
       "      <th>start_time</th>\n",
       "      <th>training_score</th>\n",
       "    </tr>\n",
       "  </thead>\n",
       "  <tbody>\n",
       "    <tr>\n",
       "      <th>0</th>\n",
       "      <td>b3cddea95097435b9be7eea2edd94b52</td>\n",
       "      <td>Random Forest [20240928-022728]</td>\n",
       "      <td>RandomForestClassifier</td>\n",
       "      <td>1727504848635</td>\n",
       "      <td>0.882974</td>\n",
       "    </tr>\n",
       "    <tr>\n",
       "      <th>1</th>\n",
       "      <td>55ea6d8acb0a4089a66f30458e876445</td>\n",
       "      <td>Decision Tree [20240928-022723]</td>\n",
       "      <td>DecisionTreeClassifier</td>\n",
       "      <td>1727504843867</td>\n",
       "      <td>0.882162</td>\n",
       "    </tr>\n",
       "    <tr>\n",
       "      <th>2</th>\n",
       "      <td>b649c1b6f92e43d29ff5c80fce5c8500</td>\n",
       "      <td>KNN [20240928-022743]</td>\n",
       "      <td>KNeighborsClassifier</td>\n",
       "      <td>1727504863610</td>\n",
       "      <td>0.823446</td>\n",
       "    </tr>\n",
       "    <tr>\n",
       "      <th>3</th>\n",
       "      <td>8bf66d8f732b4979a6e7b80b291282e7</td>\n",
       "      <td>SVC [20240928-022734]</td>\n",
       "      <td>SVC</td>\n",
       "      <td>1727504854293</td>\n",
       "      <td>0.819789</td>\n",
       "    </tr>\n",
       "    <tr>\n",
       "      <th>4</th>\n",
       "      <td>812d4d29aae44c91b67c5bfe10384908</td>\n",
       "      <td>Logistic Regression [20240928-022713]</td>\n",
       "      <td>LogisticRegression</td>\n",
       "      <td>1727504833820</td>\n",
       "      <td>0.806583</td>\n",
       "    </tr>\n",
       "    <tr>\n",
       "      <th>5</th>\n",
       "      <td>7e78e253a49d41ee8dd5f83a31930c1d</td>\n",
       "      <td>Gaussian Naive Bayes [20240928-022749]</td>\n",
       "      <td>GaussianNB</td>\n",
       "      <td>1727504869889</td>\n",
       "      <td>0.700731</td>\n",
       "    </tr>\n",
       "  </tbody>\n",
       "</table>\n",
       "</div>"
      ],
      "text/plain": [
       "                             run_id                                run_name  \\\n",
       "0  b3cddea95097435b9be7eea2edd94b52         Random Forest [20240928-022728]   \n",
       "1  55ea6d8acb0a4089a66f30458e876445         Decision Tree [20240928-022723]   \n",
       "2  b649c1b6f92e43d29ff5c80fce5c8500                   KNN [20240928-022743]   \n",
       "3  8bf66d8f732b4979a6e7b80b291282e7                   SVC [20240928-022734]   \n",
       "4  812d4d29aae44c91b67c5bfe10384908   Logistic Regression [20240928-022713]   \n",
       "5  7e78e253a49d41ee8dd5f83a31930c1d  Gaussian Naive Bayes [20240928-022749]   \n",
       "\n",
       "           estimator_name     start_time  training_score  \n",
       "0  RandomForestClassifier  1727504848635        0.882974  \n",
       "1  DecisionTreeClassifier  1727504843867        0.882162  \n",
       "2    KNeighborsClassifier  1727504863610        0.823446  \n",
       "3                     SVC  1727504854293        0.819789  \n",
       "4      LogisticRegression  1727504833820        0.806583  \n",
       "5              GaussianNB  1727504869889        0.700731  "
      ]
     },
     "execution_count": 20,
     "metadata": {},
     "output_type": "execute_result"
    }
   ],
   "source": [
    "df_runs"
   ]
  },
  {
   "cell_type": "markdown",
   "metadata": {},
   "source": [
    "## Building Final Model"
   ]
  },
  {
   "cell_type": "code",
   "execution_count": 21,
   "metadata": {},
   "outputs": [],
   "source": [
    "final_model_pipeline = Pipeline(steps=[\n",
    "    ('preprocessor', preprocessor), \n",
    "    ('classifier', RandomForestClassifier(max_depth=10, random_state=11))\n",
    "])"
   ]
  },
  {
   "cell_type": "code",
   "execution_count": 22,
   "metadata": {},
   "outputs": [],
   "source": [
    "X = dataset.drop(columns=target_col)\n",
    "y = dataset[target_col]"
   ]
  },
  {
   "cell_type": "code",
   "execution_count": 23,
   "metadata": {},
   "outputs": [],
   "source": [
    "X_train, X_test, y_train, y_test = train_test_split(X, y, test_size=0.3, random_state=42)"
   ]
  },
  {
   "cell_type": "code",
   "execution_count": 24,
   "metadata": {},
   "outputs": [
    {
     "name": "stdout",
     "output_type": "stream",
     "text": [
      "Active run_id: e29036cc1cb64393a6d8cd302243b3f9\n"
     ]
    }
   ],
   "source": [
    "with mlflow.start_run(run_name=f\"FinalModelTraining [{(datetime.now().strftime('%Y%m%d-%H%M%S'))}]\"):\n",
    "    #mlflow.log_text()\n",
    "    final_model_pipeline.fit(X_train, y_train)\n",
    "    y_pred = final_model_pipeline.predict(X_test)\n",
    "    report = classification_report(y_test, y_pred)\n",
    "    mlflow.log_text(str(report), \"classification_report.txt\")\n",
    "    run = mlflow.active_run()\n",
    "    print(\"Active run_id: {}\".format(run.info.run_id))        \n",
    "mlflow.end_run()"
   ]
  },
  {
   "cell_type": "markdown",
   "metadata": {},
   "source": [
    "## Register Model"
   ]
  },
  {
   "cell_type": "code",
   "execution_count": 25,
   "metadata": {},
   "outputs": [
    {
     "name": "stdout",
     "output_type": "stream",
     "text": [
      "e29036cc1cb64393a6d8cd302243b3f9 FinalModelTraining [20240928-022754] Pipeline 1727504874805 0.8835839089800894\n"
     ]
    }
   ],
   "source": [
    "runs = client.search_runs(\n",
    "    experiment_ids='1',\n",
    "    filter_string=\"`run name` LIKE 'FinalModelTraining%'\",\n",
    "    run_view_type=ViewType.ACTIVE_ONLY,\n",
    "    order_by=[\"attribute.start_time DESC\"],\n",
    "    max_results=1\n",
    ")\n",
    "\n",
    "for run in runs:\n",
    "    print(run.info.run_id, run.info.run_name, run.data.tags['estimator_name'], run.info.start_time, run.data.metrics['training_score'])"
   ]
  },
  {
   "cell_type": "code",
   "execution_count": 26,
   "metadata": {},
   "outputs": [
    {
     "name": "stderr",
     "output_type": "stream",
     "text": [
      "Successfully registered model 'telco_customer_churn'.\n",
      "2024/09/28 02:32:26 INFO mlflow.store.model_registry.abstract_store: Waiting up to 300 seconds for model version to finish creation. Model name: telco_customer_churn, version 1\n",
      "Created version '1' of model 'telco_customer_churn'.\n"
     ]
    },
    {
     "data": {
      "text/plain": [
       "<ModelVersion: aliases=[], creation_timestamp=1727505146493, current_stage='None', description='', last_updated_timestamp=1727505146493, name='telco_customer_churn', run_id='e29036cc1cb64393a6d8cd302243b3f9', run_link='', source='mlflow-artifacts:/1/e29036cc1cb64393a6d8cd302243b3f9/artifacts/model', status='READY', status_message='', tags={}, user_id='', version='1'>"
      ]
     },
     "execution_count": 26,
     "metadata": {},
     "output_type": "execute_result"
    }
   ],
   "source": [
    "run_id = run.info.run_id\n",
    "model_uri = f\"runs:/{run_id}/model\"\n",
    "mlflow.register_model(model_uri=model_uri, name=\"telco_customer_churn\")"
   ]
  },
  {
   "cell_type": "code",
   "execution_count": 27,
   "metadata": {},
   "outputs": [
    {
     "name": "stdout",
     "output_type": "stream",
     "text": [
      "version: 1, stage: None\n"
     ]
    }
   ],
   "source": [
    "model_name = \"telco_customer_churn\"\n",
    "latest_versions = client.get_latest_versions(name=model_name)\n",
    "\n",
    "for version in latest_versions:\n",
    "    print(f\"version: {version.version}, stage: {version.current_stage}\")"
   ]
  },
  {
   "cell_type": "code",
   "execution_count": 28,
   "metadata": {},
   "outputs": [
    {
     "data": {
      "text/plain": [
       "<ModelVersion: aliases=[], creation_timestamp=1727505146493, current_stage='Production', description='', last_updated_timestamp=1727505146626, name='telco_customer_churn', run_id='e29036cc1cb64393a6d8cd302243b3f9', run_link='', source='mlflow-artifacts:/1/e29036cc1cb64393a6d8cd302243b3f9/artifacts/model', status='READY', status_message='', tags={}, user_id='', version='1'>"
      ]
     },
     "execution_count": 28,
     "metadata": {},
     "output_type": "execute_result"
    }
   ],
   "source": [
    "model_version = \"1\"\n",
    "new_stage = \"Production\"\n",
    "client.transition_model_version_stage(\n",
    "    name=model_name,\n",
    "    version=model_version,\n",
    "    stage=new_stage,\n",
    "    archive_existing_versions=True\n",
    ")"
   ]
  },
  {
   "cell_type": "code",
   "execution_count": 29,
   "metadata": {},
   "outputs": [],
   "source": [
    "client.delete_registered_model_alias(model_name, \"champion\")"
   ]
  },
  {
   "cell_type": "code",
   "execution_count": 30,
   "metadata": {},
   "outputs": [],
   "source": [
    "client.set_registered_model_alias(model_name, \"champion\", model_version)"
   ]
  },
  {
   "cell_type": "code",
   "execution_count": 31,
   "metadata": {},
   "outputs": [],
   "source": [
    "client.set_model_version_tag(model_name, version=model_version, key=\"model_type\", value=\"RandomForestClassifier\")"
   ]
  },
  {
   "cell_type": "code",
   "execution_count": 32,
   "metadata": {},
   "outputs": [
    {
     "name": "stdout",
     "output_type": "stream",
     "text": [
      "version: 1, aliases: [], tags: {'model_type': 'RandomForestClassifier'}, current_stage: Production\n"
     ]
    }
   ],
   "source": [
    "model_name = \"telco_customer_churn\"\n",
    "latest_versions = client.get_latest_versions(name=model_name)\n",
    "\n",
    "for version in latest_versions:\n",
    "    #print(version)\n",
    "    print(f\"version: {version.version}, aliases: {version.aliases}, tags: {version.tags}, current_stage: {version.current_stage}\")"
   ]
  },
  {
   "cell_type": "code",
   "execution_count": null,
   "metadata": {},
   "outputs": [],
   "source": []
  }
 ],
 "metadata": {
  "kernelspec": {
   "display_name": "mlops-cf",
   "language": "python",
   "name": "python3"
  },
  "language_info": {
   "codemirror_mode": {
    "name": "ipython",
    "version": 3
   },
   "file_extension": ".py",
   "mimetype": "text/x-python",
   "name": "python",
   "nbconvert_exporter": "python",
   "pygments_lexer": "ipython3",
   "version": "3.10.14"
  }
 },
 "nbformat": 4,
 "nbformat_minor": 2
}
